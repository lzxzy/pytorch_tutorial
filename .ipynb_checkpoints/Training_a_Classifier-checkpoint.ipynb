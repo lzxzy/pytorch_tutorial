{
 "cells": [
  {
   "cell_type": "code",
   "execution_count": 1,
   "metadata": {},
   "outputs": [],
   "source": [
    "import torch\n",
    "import torchvision\n",
    "import torchvision.transforms as transforms"
   ]
  },
  {
   "cell_type": "code",
   "execution_count": 2,
   "metadata": {},
   "outputs": [
    {
     "name": "stdout",
     "output_type": "stream",
     "text": [
      "Downloading https://www.cs.toronto.edu/~kriz/cifar-10-python.tar.gz to ./data/cifar-10-python.tar.gz\n",
      "Files already downloaded and verified\n"
     ]
    }
   ],
   "source": [
    "transform = transforms.Compose([transforms.ToTensor(),transforms.Normalize((0.5,0.5,0.5),(0.5,0.5,0.5))])\n",
    "\n",
    "trainset = torchvision.datasets.CIFAR10(root='./data', train=True, download=True, transform=transform)\n",
    "trainloader = torch.utils.data.DataLoader(trainset, batch_size=4, shuffle=True, num_workers=2)\n",
    "\n",
    "testset = torchvision.datasets.CIFAR10(root='./data', train=True, download=True, transform=transform)\n",
    "testloader = torch.utils.data.DataLoader(testset, batch_size=4, shuffle=True, num_workers=2)\n",
    "\n",
    "classes = ('plane', 'car', 'bird', 'cat',\n",
    "           'deer', 'dog', 'frog', 'horse', 'ship', 'truck')"
   ]
  },
  {
   "cell_type": "code",
   "execution_count": 6,
   "metadata": {},
   "outputs": [
    {
     "data": {
      "image/png": "[encoded data removed]",
      "text/plain": [
       "<Figure size 432x288 with 1 Axes>"
      ]
     },
     "metadata": {
      "needs_background": "light"
     },
     "output_type": "display_data"
    },
    {
     "name": "stdout",
     "output_type": "stream",
     "text": [
      "  cat  deer  deer  bird\n"
     ]
    }
   ],
   "source": [
    "import matplotlib.pyplot as plt\n",
    "import numpy as np\n",
    "%matplotlib inline\n",
    "\n",
    "def imshow(img):\n",
    "    img = img/2 +0.5\n",
    "    npimg = img.numpy()\n",
    "    plt.imshow(np.transpose(npimg,(1,2,0)))\n",
    "    plt.show()\n",
    "dataiter = iter(trainloader)\n",
    "images, labels = dataiter.next()\n",
    "imshow(torchvision.utils.make_grid(images))\n",
    "print(' '.join('%5s' % classes[labels[j]] for j in range(4)))"
   ]
  },
  {
   "cell_type": "code",
   "execution_count": 7,
   "metadata": {},
   "outputs": [],
   "source": [
    "import torch.nn as nn\n",
    "import torch.nn.functional as F\n",
    "\n",
    "class Net(nn.Module):\n",
    "    def __init__(self):\n",
    "        super(Net, self).__init__()\n",
    "        self.conv1 = nn.Conv2d(3, 6, 5)\n",
    "        self.pool = nn.MaxPool2d(2,2)\n",
    "        self.conv2 = nn.Conv2d(6, 16, 5)\n",
    "        self.fc1 = nn.Linear(16 * 5 * 5, 120)\n",
    "        self.fc2 = nn.Linear(120, 84)\n",
    "        self.fc3 = nn.Linear(84, 10)\n",
    "    \n",
    "    def forward(self, x):\n",
    "        x = self.pool(F.relu(self.conv1(x)))\n",
    "        x = self.pool(F.relu(self.conv2(x)))\n",
    "        x = x.view(-1, 16 * 5 * 5)\n",
    "        x = F.relu(self.fc1(x))\n",
    "        x = F.relu(self.fc2(x))\n",
    "        x = self.fc3(x)\n",
    "        return x\n",
    "\n",
    "net = Net()"
   ]
  },
  {
   "cell_type": "code",
   "execution_count": 9,
   "metadata": {},
   "outputs": [],
   "source": [
    "import torch.optim as optim\n",
    "\n",
    "criterion = nn.CrossEntropyLoss()\n",
    "optimizer = optim.SGD(net.parameters(), lr=0.01, momentum=0.9)"
   ]
  },
  {
   "cell_type": "code",
   "execution_count": 10,
   "metadata": {},
   "outputs": [
    {
     "name": "stdout",
     "output_type": "stream",
     "text": [
      "1 ,  2000 | loss: 2.107\n",
      "1 ,  4000 | loss: 1.959\n",
      "1 ,  6000 | loss: 1.946\n",
      "1 ,  8000 | loss: 1.936\n",
      "1 , 10000 | loss: 1.959\n",
      "1 , 12000 | loss: 1.922\n",
      "2 ,  2000 | loss: 1.922\n",
      "2 ,  4000 | loss: 1.949\n",
      "2 ,  6000 | loss: 1.935\n",
      "2 ,  8000 | loss: 1.936\n",
      "2 , 10000 | loss: 1.938\n",
      "2 , 12000 | loss: 1.945\n",
      "3 ,  2000 | loss: 1.921\n",
      "3 ,  4000 | loss: 1.947\n",
      "3 ,  6000 | loss: 1.932\n",
      "3 ,  8000 | loss: 1.960\n",
      "3 , 10000 | loss: 1.935\n",
      "3 , 12000 | loss: 1.958\n",
      "4 ,  2000 | loss: 1.918\n",
      "4 ,  4000 | loss: 1.971\n",
      "4 ,  6000 | loss: 1.949\n",
      "4 ,  8000 | loss: 1.955\n",
      "4 , 10000 | loss: 1.973\n",
      "4 , 12000 | loss: 1.944\n",
      "5 ,  2000 | loss: 1.975\n",
      "5 ,  4000 | loss: 1.942\n",
      "5 ,  6000 | loss: 1.956\n",
      "5 ,  8000 | loss: 1.964\n",
      "5 , 10000 | loss: 1.944\n",
      "5 , 12000 | loss: 1.959\n",
      "6 ,  2000 | loss: 1.970\n",
      "6 ,  4000 | loss: 1.948\n",
      "6 ,  6000 | loss: 1.954\n",
      "6 ,  8000 | loss: 1.935\n",
      "6 , 10000 | loss: 1.941\n",
      "6 , 12000 | loss: 1.937\n",
      "7 ,  2000 | loss: 1.974\n",
      "7 ,  4000 | loss: 1.951\n",
      "7 ,  6000 | loss: 1.953\n",
      "7 ,  8000 | loss: 2.002\n",
      "7 , 10000 | loss: 1.972\n",
      "7 , 12000 | loss: 1.990\n",
      "8 ,  2000 | loss: 2.002\n",
      "8 ,  4000 | loss: 1.998\n",
      "8 ,  6000 | loss: 1.970\n",
      "8 ,  8000 | loss: 1.958\n",
      "8 , 10000 | loss: 1.948\n",
      "8 , 12000 | loss: 1.983\n",
      "9 ,  2000 | loss: 1.975\n",
      "9 ,  4000 | loss: 2.021\n",
      "9 ,  6000 | loss: 2.023\n",
      "9 ,  8000 | loss: 1.993\n",
      "9 , 10000 | loss: 1.996\n",
      "9 , 12000 | loss: 1.980\n",
      "10 ,  2000 | loss: 1.963\n",
      "10 ,  4000 | loss: 1.998\n",
      "10 ,  6000 | loss: 1.977\n",
      "10 ,  8000 | loss: 1.980\n",
      "10 , 10000 | loss: 1.970\n",
      "10 , 12000 | loss: 1.973\n",
      "Finshed Training\n"
     ]
    }
   ],
   "source": [
    "for epoch in range(10):\n",
    "    running_loss = 0.0\n",
    "    for i, data in enumerate(trainloader, 0):\n",
    "        inputs,labels = data\n",
    "        \n",
    "        optimizer.zero_grad()\n",
    "        \n",
    "        outputs = net(inputs)\n",
    "        loss = criterion(outputs, labels)\n",
    "        loss.backward()\n",
    "        optimizer.step()\n",
    "        \n",
    "        running_loss += loss.item()\n",
    "        if i % 2000 == 1999:\n",
    "            print('%d , %5d | loss: %.3f'%(epoch + 1, i + 1, running_loss/2000))\n",
    "            running_loss = 0.0\n",
    "            \n",
    "print('Finshed Training')"
   ]
  },
  {
   "cell_type": "code",
   "execution_count": 11,
   "metadata": {},
   "outputs": [
    {
     "data": {
      "image/png": "[encoded data removed]",
      "text/plain": [
       "<Figure size 432x288 with 1 Axes>"
      ]
     },
     "metadata": {
      "needs_background": "light"
     },
     "output_type": "display_data"
    },
    {
     "name": "stdout",
     "output_type": "stream",
     "text": [
      "('GroundTruth: ', 'plane   cat horse   cat')\n"
     ]
    }
   ],
   "source": [
    "dataiter = iter(testloader)\n",
    "images, labels = dataiter.next()\n",
    "\n",
    "imshow(torchvision.utils.make_grid(images))\n",
    "print('GroundTruth: ', ' '.join('%5s' % classes[labels[j]] for j in range(4)))"
   ]
  },
  {
   "cell_type": "code",
   "execution_count": 13,
   "metadata": {},
   "outputs": [],
   "source": [
    "outputs = net(images)"
   ]
  },
  {
   "cell_type": "code",
   "execution_count": 14,
   "metadata": {},
   "outputs": [
    {
     "name": "stdout",
     "output_type": "stream",
     "text": [
      "('Predicted: ', ' ship  frog horse   dog')\n"
     ]
    }
   ],
   "source": [
    "_, predicted = torch.max(outputs,1)\n",
    "print('Predicted: ', ' '.join('%5s' % classes[predicted[j]] for j in range(4)))"
   ]
  },
  {
   "cell_type": "code",
   "execution_count": 15,
   "metadata": {},
   "outputs": [
    {
     "name": "stdout",
     "output_type": "stream",
     "text": [
      "Accuracy of the network on the 10000 test images: 26 %\n"
     ]
    }
   ],
   "source": [
    "correct = 0\n",
    "total = 0\n",
    "with torch.no_grad():\n",
    "    for data in testloader:\n",
    "        images, labels = data\n",
    "        outputs = net(images)\n",
    "        _, predicted = torch.max(outputs.data, 1)\n",
    "        total += labels.size(0)\n",
    "        correct += (predicted == labels).sum().item()\n",
    "        \n",
    "print('Accuracy of the network on the 10000 test images: %d %%'%(100 * correct/total))\n",
    "        "
   ]
  }
 ],
 "metadata": {
  "kernelspec": {
   "display_name": "Python 2",
   "language": "python",
   "name": "python2"
  },
  "language_info": {
   "codemirror_mode": {
    "name": "ipython",
    "version": 2
   },
   "file_extension": ".py",
   "mimetype": "text/x-python",
   "name": "python",
   "nbconvert_exporter": "python",
   "pygments_lexer": "ipython2",
   "version": "2.7.15"
  }
 },
 "nbformat": 4,
 "nbformat_minor": 2
}
