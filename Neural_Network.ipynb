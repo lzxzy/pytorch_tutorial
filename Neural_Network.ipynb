{
 "cells": [
  {
   "cell_type": "code",
   "execution_count": 1,
   "metadata": {},
   "outputs": [
    {
     "name": "stdout",
     "output_type": "stream",
     "text": [
      "Net(\n",
      "  (conv1): Conv2d(1, 6, kernel_size=(5, 5), stride=(1, 1))\n",
      "  (conv2): Conv2d(6, 16, kernel_size=(5, 5), stride=(1, 1))\n",
      "  (fc1): Linear(in_features=400, out_features=120, bias=True)\n",
      "  (fc2): Linear(in_features=120, out_features=84, bias=True)\n",
      "  (fc3): Linear(in_features=84, out_features=10, bias=True)\n",
      ")\n"
     ]
    }
   ],
   "source": [
    "import torch\n",
    "import torch.nn as nn\n",
    "import torch.nn.functional as F\n",
    "\n",
    "class Net(nn.Module):\n",
    "    def __init__(self):\n",
    "        super(Net, self).__init__()\n",
    "        # 1 input image channel, 6 output channels, 5x5 square convolution\n",
    "        # kernel\n",
    "        self.conv1 = nn.Conv2d(1, 6, 5)\n",
    "        self.conv2 = nn.Conv2d(6, 16, 5)\n",
    "        # an affine operation: y = Wx + b\n",
    "        self.fc1 = nn.Linear(16 * 5 * 5, 120)\n",
    "        self.fc2 = nn.Linear(120, 84)\n",
    "        self.fc3 = nn.Linear(84, 10)\n",
    "\n",
    "    def forward(self, x):\n",
    "        # Max pooling over a (2, 2) window\n",
    "        x = F.max_pool2d(F.relu(self.conv1(x)), (2, 2))\n",
    "        # If the size is a square you can only specify a single number\n",
    "        x = F.max_pool2d(F.relu(self.conv2(x)), 2)\n",
    "        x = x.view(-1, self.num_flat_features(x))\n",
    "        x = F.relu(self.fc1(x))\n",
    "        x = F.relu(self.fc2(x))\n",
    "        x = self.fc3(x)\n",
    "        return x\n",
    "\n",
    "    def num_flat_features(self, x):\n",
    "        size = x.size()[1:]  # all dimensions except the batch dimension\n",
    "        num_features = 1\n",
    "        for s in size:\n",
    "            num_features *= s\n",
    "        return num_features\n",
    "\n",
    "net = Net()\n",
    "print(net)"
   ]
  },
  {
   "cell_type": "code",
   "execution_count": 3,
   "metadata": {},
   "outputs": [
    {
     "name": "stdout",
     "output_type": "stream",
     "text": [
      "10\n",
      "torch.Size([6, 1, 5, 5])\n",
      "Parameter containing:\n",
      "tensor([[[[-0.1990, -0.0501, -0.0519,  0.1296, -0.1993],\n",
      "          [-0.1185, -0.0650,  0.1642,  0.0920,  0.0046],\n",
      "          [-0.0480, -0.0404,  0.1146, -0.1208,  0.0898],\n",
      "          [-0.1487, -0.1947, -0.0434, -0.0970, -0.1578],\n",
      "          [ 0.1270,  0.1427,  0.0249,  0.0553,  0.0308]]],\n",
      "\n",
      "\n",
      "        [[[-0.1845, -0.1856,  0.1506, -0.0989,  0.0833],\n",
      "          [-0.1840,  0.0796,  0.1696,  0.0652,  0.0163],\n",
      "          [-0.1341,  0.0821, -0.0473, -0.0122,  0.1098],\n",
      "          [ 0.1986, -0.0941,  0.0654, -0.1417, -0.0639],\n",
      "          [-0.1702,  0.1656, -0.1254, -0.0401, -0.1232]]],\n",
      "\n",
      "\n",
      "        [[[ 0.0936, -0.0712,  0.0033,  0.1074, -0.1395],\n",
      "          [ 0.0003,  0.0699, -0.1870, -0.0124, -0.1843],\n",
      "          [-0.0655, -0.1193, -0.1535,  0.0418, -0.0075],\n",
      "          [ 0.0075,  0.0234,  0.0070,  0.0874, -0.0289],\n",
      "          [ 0.0279,  0.0906,  0.0297, -0.0845,  0.0863]]],\n",
      "\n",
      "\n",
      "        [[[ 0.1346, -0.0540,  0.0397,  0.1691,  0.0768],\n",
      "          [-0.1918,  0.0961,  0.0971,  0.0380,  0.0667],\n",
      "          [-0.0129,  0.0253, -0.0198, -0.0204, -0.1518],\n",
      "          [ 0.0821,  0.1974,  0.0553,  0.1257,  0.0814],\n",
      "          [-0.1258, -0.0707,  0.0795,  0.0478,  0.1677]]],\n",
      "\n",
      "\n",
      "        [[[-0.1962,  0.1540,  0.0902, -0.1750,  0.1529],\n",
      "          [-0.1308, -0.0184,  0.0144,  0.0615, -0.1659],\n",
      "          [-0.0663,  0.0550, -0.0222,  0.0098,  0.1227],\n",
      "          [-0.0474,  0.0059, -0.0998, -0.1413, -0.0940],\n",
      "          [ 0.0928, -0.0019, -0.0785,  0.1562,  0.1282]]],\n",
      "\n",
      "\n",
      "        [[[ 0.0067, -0.1065, -0.1856, -0.1170,  0.0969],\n",
      "          [-0.0084,  0.1892,  0.1775, -0.1636, -0.1474],\n",
      "          [-0.1396,  0.0950, -0.1793, -0.1352,  0.1219],\n",
      "          [-0.0110,  0.1269, -0.0848, -0.1226,  0.1640],\n",
      "          [ 0.1224, -0.1525,  0.1192, -0.1352, -0.0843]]]], requires_grad=True)\n"
     ]
    }
   ],
   "source": [
    "params = list(net.parameters())\n",
    "print(len(params))\n",
    "print(params[0].size())\n",
    "print(params[0])"
   ]
  },
  {
   "cell_type": "code",
   "execution_count": 4,
   "metadata": {},
   "outputs": [
    {
     "name": "stdout",
     "output_type": "stream",
     "text": [
      "tensor([[ 0.0156,  0.0956,  0.0533,  0.0258,  0.0879,  0.0299,  0.0993,  0.0846,\n",
      "         -0.0049, -0.0346]], grad_fn=<AddmmBackward>)\n"
     ]
    }
   ],
   "source": [
    "input = torch.randn(1,1,32,32)\n",
    "out = net(input)\n",
    "print(out)"
   ]
  },
  {
   "cell_type": "code",
   "execution_count": 5,
   "metadata": {},
   "outputs": [],
   "source": [
    "net.zero_grad()\n",
    "out.backward(torch.randn(1,10))"
   ]
  },
  {
   "cell_type": "code",
   "execution_count": 7,
   "metadata": {},
   "outputs": [
    {
     "name": "stdout",
     "output_type": "stream",
     "text": [
      "tensor(1.2973, grad_fn=<MseLossBackward>)\n"
     ]
    }
   ],
   "source": [
    "output = net(input)\n",
    "target = torch.randn(10)\n",
    "target = target.view(1,-1)\n",
    "criterion = nn.MSELoss()\n",
    "\n",
    "loss = criterion(output,target)\n",
    "print(loss)"
   ]
  },
  {
   "cell_type": "code",
   "execution_count": 11,
   "metadata": {},
   "outputs": [
    {
     "name": "stdout",
     "output_type": "stream",
     "text": [
      "<MseLossBackward object at 0x7f289d28fa90>\n",
      "((<AddmmBackward object at 0x7f289d28fad0>, 0L),)\n",
      "((<AccumulateGrad object at 0x7f289d28fa90>, 0L), (<ReluBackward0 object at 0x7f289d28fb10>, 0L), (<TBackward object at 0x7f289d28fb90>, 0L))\n"
     ]
    }
   ],
   "source": [
    "print(loss.grad_fn)\n",
    "print(loss.grad_fn.next_functions)\n",
    "print(loss.grad_fn.next_functions[0][0].next_functions)"
   ]
  },
  {
   "cell_type": "code",
   "execution_count": 12,
   "metadata": {},
   "outputs": [
    {
     "name": "stdout",
     "output_type": "stream",
     "text": [
      "conv1.bias.grad before backward\n",
      "tensor([0., 0., 0., 0., 0., 0.])\n",
      "conv1.bias.grad after backward\n",
      "tensor([-0.0112,  0.0045, -0.0041, -0.0142, -0.0061, -0.0257])\n"
     ]
    }
   ],
   "source": [
    "net.zero_grad()\n",
    "print('conv1.bias.grad before backward')\n",
    "print(net.conv1.bias.grad)\n",
    "\n",
    "loss.backward()\n",
    "\n",
    "print('conv1.bias.grad after backward')\n",
    "print(net.conv1.bias.grad)"
   ]
  },
  {
   "cell_type": "code",
   "execution_count": 13,
   "metadata": {},
   "outputs": [],
   "source": [
    "learning_rate = 0.01\n",
    "for f in net.parameters():\n",
    "    f.data.sub_(f.grad.data * learning_rate)"
   ]
  },
  {
   "cell_type": "code",
   "execution_count": 14,
   "metadata": {},
   "outputs": [],
   "source": [
    "import torch.optim as optim\n",
    "\n",
    "optimizer = optim.SGD(net.parameters(), lr=0.01)\n",
    "\n",
    "optimizer.zero_grad()\n",
    "output = net(input)\n",
    "loss = criterion(output,target)\n",
    "loss.backward()   ## Get the weights gradient\n",
    "optimizer.step()  ## Dose the weights update"
   ]
  },
  {
   "cell_type": "code",
   "execution_count": null,
   "metadata": {},
   "outputs": [],
   "source": []
  }
 ],
 "metadata": {
  "kernelspec": {
   "display_name": "Python 2",
   "language": "python",
   "name": "python2"
  },
  "language_info": {
   "codemirror_mode": {
    "name": "ipython",
    "version": 2
   },
   "file_extension": ".py",
   "mimetype": "text/x-python",
   "name": "python",
   "nbconvert_exporter": "python",
   "pygments_lexer": "ipython2",
   "version": "2.7.15"
  }
 },
 "nbformat": 4,
 "nbformat_minor": 2
}
